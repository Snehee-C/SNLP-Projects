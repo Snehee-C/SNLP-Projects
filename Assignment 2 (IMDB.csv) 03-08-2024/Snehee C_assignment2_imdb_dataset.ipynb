{
 "cells": [
  {
   "cell_type": "code",
   "execution_count": 1,
   "id": "1f31a63c",
   "metadata": {},
   "outputs": [
    {
     "name": "stdout",
     "output_type": "stream",
     "text": [
      "[=================================================-] 99.9% 1660.7/1662.8MB downloaded\n"
     ]
    }
   ],
   "source": [
    "import gensim.downloader as api\n",
    "\n",
    "#pretrained Word2Vec model\n",
    "model = api.load(\"word2vec-google-news-300\")"
   ]
  },
  {
   "cell_type": "code",
   "execution_count": 7,
   "id": "d62d53c7",
   "metadata": {},
   "outputs": [
    {
     "data": {
      "text/html": [
       "<div>\n",
       "<style scoped>\n",
       "    .dataframe tbody tr th:only-of-type {\n",
       "        vertical-align: middle;\n",
       "    }\n",
       "\n",
       "    .dataframe tbody tr th {\n",
       "        vertical-align: top;\n",
       "    }\n",
       "\n",
       "    .dataframe thead th {\n",
       "        text-align: right;\n",
       "    }\n",
       "</style>\n",
       "<table border=\"1\" class=\"dataframe\">\n",
       "  <thead>\n",
       "    <tr style=\"text-align: right;\">\n",
       "      <th></th>\n",
       "      <th>review</th>\n",
       "      <th>sentiment</th>\n",
       "    </tr>\n",
       "  </thead>\n",
       "  <tbody>\n",
       "    <tr>\n",
       "      <th>0</th>\n",
       "      <td>One of the other reviewers has mentioned that ...</td>\n",
       "      <td>positive</td>\n",
       "    </tr>\n",
       "    <tr>\n",
       "      <th>1</th>\n",
       "      <td>A wonderful little production. &lt;br /&gt;&lt;br /&gt;The...</td>\n",
       "      <td>positive</td>\n",
       "    </tr>\n",
       "    <tr>\n",
       "      <th>2</th>\n",
       "      <td>I thought this was a wonderful way to spend ti...</td>\n",
       "      <td>positive</td>\n",
       "    </tr>\n",
       "    <tr>\n",
       "      <th>3</th>\n",
       "      <td>Basically there's a family where a little boy ...</td>\n",
       "      <td>negative</td>\n",
       "    </tr>\n",
       "    <tr>\n",
       "      <th>4</th>\n",
       "      <td>Petter Mattei's \"Love in the Time of Money\" is...</td>\n",
       "      <td>positive</td>\n",
       "    </tr>\n",
       "  </tbody>\n",
       "</table>\n",
       "</div>"
      ],
      "text/plain": [
       "                                              review sentiment\n",
       "0  One of the other reviewers has mentioned that ...  positive\n",
       "1  A wonderful little production. <br /><br />The...  positive\n",
       "2  I thought this was a wonderful way to spend ti...  positive\n",
       "3  Basically there's a family where a little boy ...  negative\n",
       "4  Petter Mattei's \"Love in the Time of Money\" is...  positive"
      ]
     },
     "execution_count": 7,
     "metadata": {},
     "output_type": "execute_result"
    }
   ],
   "source": [
    "import pandas as pd\n",
    "import numpy as np\n",
    "import matplotlib.pyplot as plt\n",
    "import seaborn as sns\n",
    "import re\n",
    "from nltk.corpus import stopwords\n",
    "from nltk.tokenize import word_tokenize\n",
    "import nltk\n",
    "from sklearn.model_selection import train_test_split\n",
    "from sklearn.linear_model import LogisticRegression\n",
    "from sklearn.metrics import classification_report\n",
    "from gensim.models import Word2Vec\n",
    "\n",
    "df = pd.read_csv(\"IMDB Dataset.csv\")\n",
    "df.head()"
   ]
  },
  {
   "cell_type": "markdown",
   "id": "c47fae6f",
   "metadata": {},
   "source": [
    "## Part 1"
   ]
  },
  {
   "cell_type": "markdown",
   "id": "6a40b036",
   "metadata": {},
   "source": [
    "# Finding similar words"
   ]
  },
  {
   "cell_type": "code",
   "execution_count": 8,
   "id": "31f3b645",
   "metadata": {},
   "outputs": [
    {
     "name": "stdout",
     "output_type": "stream",
     "text": [
      "Similar words to 'cat':\n",
      "  cats: 0.8099\n",
      "  dog: 0.7609\n",
      "  kitten: 0.7465\n",
      "  feline: 0.7326\n",
      "  beagle: 0.7151\n",
      "\n",
      "Similar words to 'dog':\n",
      "  dogs: 0.8680\n",
      "  puppy: 0.8106\n",
      "  pit_bull: 0.7804\n",
      "  pooch: 0.7627\n",
      "  cat: 0.7609\n",
      "\n",
      "Similar words to 'apple':\n",
      "  apples: 0.7204\n",
      "  pear: 0.6451\n",
      "  fruit: 0.6410\n",
      "  berry: 0.6302\n",
      "  pears: 0.6134\n",
      "\n",
      "Similar words to 'banana':\n",
      "  bananas: 0.7524\n",
      "  pineapple: 0.6588\n",
      "  mango: 0.6365\n",
      "  pineapples: 0.6314\n",
      "  papaya: 0.6064\n",
      "\n",
      "Similar words to 'computer':\n",
      "  computers: 0.7979\n",
      "  laptop: 0.6640\n",
      "  laptop_computer: 0.6549\n",
      "  Computer: 0.6473\n",
      "  com_puter: 0.6082\n",
      "\n"
     ]
    }
   ],
   "source": [
    "new_words = [\"cat\", \"dog\", \"apple\", \"banana\", \"computer\"]\n",
    "\n",
    "# Find and print similar words for each of the new words\n",
    "for word in new_words:\n",
    "    print(f\"Similar words to '{word}':\")\n",
    "    try:\n",
    "        similar_words = model.most_similar(word, topn=5)\n",
    "        for similar_word, similarity in similar_words:\n",
    "            print(f\"  {similar_word}: {similarity:.4f}\")\n",
    "    except KeyError:\n",
    "        print(f\"  Word '{word}' not in vocabulary.\")\n",
    "    print()"
   ]
  },
  {
   "cell_type": "code",
   "execution_count": 9,
   "id": "e941c93b",
   "metadata": {},
   "outputs": [
    {
     "name": "stdout",
     "output_type": "stream",
     "text": [
      "boy is to man as girl is to:\n",
      "  woman (similarity: 0.8713)\n",
      "\n",
      "paris is to france as berlin is to:\n",
      "  germany (similarity: 0.5094)\n",
      "\n",
      "air is to plane as water is to:\n",
      "  boat (similarity: 0.4815)\n",
      "\n"
     ]
    }
   ],
   "source": [
    "#Finding similar word based on analogy (king - man + woman = queen)\n",
    "analogies = [(\"boy\", \"man\", \"girl\"),  (\"paris\", \"france\", \"berlin\"), (\"air\",\"plane\", \"water\")]\n",
    "\n",
    "for a, b, c in analogies:\n",
    "    result = model.most_similar(positive=[b, c], negative=[a], topn=1)\n",
    "    print(f\"{a} is to {b} as {c} is to:\")\n",
    "    print(f\"  {result[0][0]} (similarity: {result[0][1]:.4f})\")\n",
    "    print()"
   ]
  },
  {
   "cell_type": "markdown",
   "id": "1c88e272",
   "metadata": {},
   "source": [
    "## Part 2"
   ]
  },
  {
   "cell_type": "code",
   "execution_count": 10,
   "id": "bf12f1a2",
   "metadata": {},
   "outputs": [
    {
     "name": "stdout",
     "output_type": "stream",
     "text": [
      "<class 'pandas.core.frame.DataFrame'>\n",
      "RangeIndex: 50000 entries, 0 to 49999\n",
      "Data columns (total 2 columns):\n",
      " #   Column     Non-Null Count  Dtype \n",
      "---  ------     --------------  ----- \n",
      " 0   review     50000 non-null  object\n",
      " 1   sentiment  50000 non-null  object\n",
      "dtypes: object(2)\n",
      "memory usage: 781.4+ KB\n"
     ]
    }
   ],
   "source": [
    "df.info()"
   ]
  },
  {
   "cell_type": "code",
   "execution_count": 11,
   "id": "009ed944",
   "metadata": {},
   "outputs": [
    {
     "data": {
      "text/plain": [
       "positive    25000\n",
       "negative    25000\n",
       "Name: sentiment, dtype: int64"
      ]
     },
     "execution_count": 11,
     "metadata": {},
     "output_type": "execute_result"
    }
   ],
   "source": [
    "df['sentiment'].value_counts()"
   ]
  },
  {
   "cell_type": "code",
   "execution_count": 12,
   "id": "3ef087dc",
   "metadata": {},
   "outputs": [
    {
     "name": "stderr",
     "output_type": "stream",
     "text": [
      "C:\\Users\\Kids\\anaconda\\lib\\site-packages\\seaborn\\_decorators.py:36: FutureWarning: Pass the following variable as a keyword arg: x. From version 0.12, the only valid positional argument will be `data`, and passing other arguments without an explicit keyword will result in an error or misinterpretation.\n",
      "  warnings.warn(\n"
     ]
    },
    {
     "data": {
      "text/plain": [
       "<AxesSubplot:xlabel='sentiment', ylabel='count'>"
      ]
     },
     "execution_count": 12,
     "metadata": {},
     "output_type": "execute_result"
    },
    {
     "data": {
      "image/png": "[encoded data removed]",
      "text/plain": [
       "<Figure size 432x288 with 1 Axes>"
      ]
     },
     "metadata": {
      "needs_background": "light"
     },
     "output_type": "display_data"
    }
   ],
   "source": [
    "sns.countplot(df['sentiment'])"
   ]
  },
  {
   "cell_type": "code",
   "execution_count": 13,
   "id": "d5c5b5bd",
   "metadata": {},
   "outputs": [
    {
     "data": {
      "image/png": "[encoded data removed]",
      "text/plain": [
       "<Figure size 720x432 with 1 Axes>"
      ]
     },
     "metadata": {
      "needs_background": "light"
     },
     "output_type": "display_data"
    }
   ],
   "source": [
    "df['review_length'] = df['review'].apply(len)\n",
    "plt.figure(figsize=(10, 6))\n",
    "sns.histplot(df['review_length'], bins=50, kde=True)\n",
    "plt.title('Distribution of Review Lengths')\n",
    "plt.xlabel('Review Length')\n",
    "plt.ylabel('Frequency')\n",
    "plt.show()"
   ]
  },
  {
   "cell_type": "code",
   "execution_count": 14,
   "id": "fc78b87a",
   "metadata": {},
   "outputs": [
    {
     "data": {
      "text/plain": [
       "count    50000.000000\n",
       "mean      1309.431020\n",
       "std        989.728014\n",
       "min         32.000000\n",
       "25%        699.000000\n",
       "50%        970.000000\n",
       "75%       1590.250000\n",
       "max      13704.000000\n",
       "Name: review_length, dtype: float64"
      ]
     },
     "execution_count": 14,
     "metadata": {},
     "output_type": "execute_result"
    }
   ],
   "source": [
    "df['review_length'].describe()"
   ]
  },
  {
   "cell_type": "code",
   "execution_count": 15,
   "id": "a993119c",
   "metadata": {},
   "outputs": [
    {
     "name": "stderr",
     "output_type": "stream",
     "text": [
      "[nltk_data] Downloading package stopwords to\n",
      "[nltk_data]     C:\\Users\\Kids\\AppData\\Roaming\\nltk_data...\n",
      "[nltk_data]   Package stopwords is already up-to-date!\n",
      "[nltk_data] Downloading package punkt to\n",
      "[nltk_data]     C:\\Users\\Kids\\AppData\\Roaming\\nltk_data...\n",
      "[nltk_data]   Package punkt is already up-to-date!\n"
     ]
    }
   ],
   "source": [
    "nltk.download('stopwords')\n",
    "nltk.download('punkt')\n",
    "\n",
    "stop_words = set(stopwords.words('english'))\n",
    "\n",
    "def clean_text(text):\n",
    "    text = re.sub(r'[^\\w\\s]', '', text.lower())\n",
    "    tokens = word_tokenize(text)\n",
    "    tokens = [word for word in tokens if word not in stop_words]\n",
    "    return ' '.join(tokens)\n",
    "\n",
    "df['cleaned_review'] = df['review'].apply(clean_text)"
   ]
  },
  {
   "cell_type": "code",
   "execution_count": 16,
   "id": "e61afde6",
   "metadata": {},
   "outputs": [],
   "source": [
    "sentences = [review.split() for review in df['cleaned_review']]"
   ]
  },
  {
   "cell_type": "code",
   "execution_count": 17,
   "id": "c224bbc2",
   "metadata": {},
   "outputs": [],
   "source": [
    "skipgram = Word2Vec(sentences,sg=1,vector_size=50, window=5, min_count=1)\n",
    "cbow = Word2Vec(sentences, sg=0,vector_size=50,window=5,min_count=1)"
   ]
  },
  {
   "cell_type": "code",
   "execution_count": 18,
   "id": "72e01b87",
   "metadata": {},
   "outputs": [],
   "source": [
    "def get_average_vector(sentence, model):\n",
    "    words = sentence.split()\n",
    "    vectors = [model.wv[word] for word in words if word in model.wv]\n",
    "    if len(vectors) == 0:\n",
    "        return np.zeros(model.vector_size)\n",
    "    return np.mean(vectors, axis=0)\n",
    "\n",
    "df['skipgram_vector'] = df['cleaned_review'].apply(lambda x: get_average_vector(x, skipgram))\n",
    "df['cbow_vector'] = df['cleaned_review'].apply(lambda x: get_average_vector(x, cbow))"
   ]
  },
  {
   "cell_type": "code",
   "execution_count": 19,
   "id": "c27d27b2",
   "metadata": {},
   "outputs": [],
   "source": [
    "def regression(x_train, x_test, y_train, y_test):\n",
    "    clf = LogisticRegression(max_iter=1000)\n",
    "    clf.fit(x_train, y_train)\n",
    "    y_pred = clf.predict(x_test)\n",
    "    return classification_report(y_test, y_pred)"
   ]
  },
  {
   "cell_type": "code",
   "execution_count": 20,
   "id": "8e8bb9fc",
   "metadata": {},
   "outputs": [],
   "source": [
    "sx = np.array(df['skipgram_vector'].tolist())\n",
    "cx = np.array(df['cbow_vector'].tolist())\n",
    "y = df['sentiment'].apply(lambda x: 1 if x == 'positive' else 0)\n",
    "\n",
    "sx_train, sx_test, y_train, y_test = train_test_split(sx, y, test_size=0.2, random_state=42)\n",
    "cx_train, cx_test, _, _ = train_test_split(cx, y, test_size=0.2, random_state=42)\n"
   ]
  },
  {
   "cell_type": "markdown",
   "id": "7c4f7cf1",
   "metadata": {},
   "source": [
    "# SKIPGRAM MODEL"
   ]
  },
  {
   "cell_type": "code",
   "execution_count": 21,
   "id": "3e02d1d0",
   "metadata": {},
   "outputs": [
    {
     "name": "stdout",
     "output_type": "stream",
     "text": [
      "Skip-gram Model:\n",
      "              precision    recall  f1-score   support\n",
      "\n",
      "           0       0.87      0.86      0.86      4961\n",
      "           1       0.86      0.87      0.87      5039\n",
      "\n",
      "    accuracy                           0.87     10000\n",
      "   macro avg       0.87      0.87      0.87     10000\n",
      "weighted avg       0.87      0.87      0.87     10000\n",
      "\n"
     ]
    }
   ],
   "source": [
    "print(\"Skip-gram Model:\")\n",
    "print(regression(sx_train, sx_test, y_train, y_test))"
   ]
  },
  {
   "cell_type": "markdown",
   "id": "92640a9f",
   "metadata": {},
   "source": [
    "# CBoW MODEL"
   ]
  },
  {
   "cell_type": "code",
   "execution_count": 22,
   "id": "1c5fc0fe",
   "metadata": {},
   "outputs": [
    {
     "name": "stdout",
     "output_type": "stream",
     "text": [
      "CBoW Model:\n",
      "              precision    recall  f1-score   support\n",
      "\n",
      "           0       0.86      0.84      0.85      4961\n",
      "           1       0.84      0.86      0.85      5039\n",
      "\n",
      "    accuracy                           0.85     10000\n",
      "   macro avg       0.85      0.85      0.85     10000\n",
      "weighted avg       0.85      0.85      0.85     10000\n",
      "\n"
     ]
    }
   ],
   "source": [
    "print(\"CBoW Model:\")\n",
    "print(regression(cx_train, cx_test, y_train, y_test))"
   ]
  },
  {
   "cell_type": "code",
   "execution_count": 23,
   "id": "b9e74e22",
   "metadata": {},
   "outputs": [],
   "source": [
    "def get_average_vector(sentence, model):\n",
    "    words = sentence.split()\n",
    "    vectors = [model[word] for word in words if word in model]\n",
    "    if len(vectors) == 0:\n",
    "        return np.zeros(model.vector_size)\n",
    "    return np.mean(vectors, axis=0)\n",
    "\n",
    "df['new_vector'] = df['cleaned_review'].apply(lambda x: get_average_vector(x, model))"
   ]
  },
  {
   "cell_type": "markdown",
   "id": "50cdd0bc",
   "metadata": {},
   "source": [
    "# PRETRAINED WORD2VEC MODEL"
   ]
  },
  {
   "cell_type": "code",
   "execution_count": 24,
   "id": "bbd0451e",
   "metadata": {},
   "outputs": [
    {
     "name": "stdout",
     "output_type": "stream",
     "text": [
      "Pretrained Word2Vec Model:\n",
      "              precision    recall  f1-score   support\n",
      "\n",
      "           0       0.85      0.85      0.85      4961\n",
      "           1       0.85      0.85      0.85      5039\n",
      "\n",
      "    accuracy                           0.85     10000\n",
      "   macro avg       0.85      0.85      0.85     10000\n",
      "weighted avg       0.85      0.85      0.85     10000\n",
      "\n"
     ]
    }
   ],
   "source": [
    "new_x = np.array(df['new_vector'].tolist())\n",
    "y = df['sentiment'].apply(lambda x: 1 if x == 'positive' else 0)\n",
    "\n",
    "new_x_train, new_x_test, y_train, y_test = train_test_split(new_x, y, test_size=0.2, random_state=42)\n",
    "\n",
    "print(\"Pretrained Word2Vec Model:\")\n",
    "print(regression(new_x_train, new_x_test, y_train, y_test))"
   ]
  },
  {
   "cell_type": "code",
   "execution_count": null,
   "id": "2407acc7",
   "metadata": {},
   "outputs": [],
   "source": []
  }
 ],
 "metadata": {
  "kernelspec": {
   "display_name": "Python 3 (ipykernel)",
   "language": "python",
   "name": "python3"
  },
  "language_info": {
   "codemirror_mode": {
    "name": "ipython",
    "version": 3
   },
   "file_extension": ".py",
   "mimetype": "text/x-python",
   "name": "python",
   "nbconvert_exporter": "python",
   "pygments_lexer": "ipython3",
   "version": "3.9.12"
  }
 },
 "nbformat": 4,
 "nbformat_minor": 5
}
