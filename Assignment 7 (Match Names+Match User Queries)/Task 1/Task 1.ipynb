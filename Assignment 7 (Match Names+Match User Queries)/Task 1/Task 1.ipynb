{
 "cells": [
  {
   "cell_type": "code",
   "execution_count": 1,
   "id": "82897580",
   "metadata": {},
   "outputs": [],
   "source": [
    "#pip install fuzzywuzzy scikit-learn nltk"
   ]
  },
  {
   "cell_type": "code",
   "execution_count": 2,
   "id": "ce5865af",
   "metadata": {},
   "outputs": [],
   "source": [
    "#pip install python-Levenshtein"
   ]
  },
  {
   "cell_type": "code",
   "execution_count": 89,
   "id": "0c9bf54f",
   "metadata": {},
   "outputs": [],
   "source": [
    "import numpy as np\n",
    "import pandas as pd\n",
    "import pandas as pd\n",
    "import re\n",
    "import nltk\n",
    "from fuzzywuzzy import fuzz, process\n",
    "from sklearn.feature_extraction.text import CountVectorizer, TfidfVectorizer\n",
    "from sklearn.metrics.pairwise import cosine_similarity\n",
    "from nltk.corpus import stopwords"
   ]
  },
  {
   "cell_type": "markdown",
   "id": "03548eb5",
   "metadata": {},
   "source": [
    "## Preprocessing the data"
   ]
  },
  {
   "cell_type": "code",
   "execution_count": 90,
   "id": "1fec2bb1",
   "metadata": {},
   "outputs": [
    {
     "data": {
      "text/html": [
       "<div>\n",
       "<style scoped>\n",
       "    .dataframe tbody tr th:only-of-type {\n",
       "        vertical-align: middle;\n",
       "    }\n",
       "\n",
       "    .dataframe tbody tr th {\n",
       "        vertical-align: top;\n",
       "    }\n",
       "\n",
       "    .dataframe thead th {\n",
       "        text-align: right;\n",
       "    }\n",
       "</style>\n",
       "<table border=\"1\" class=\"dataframe\">\n",
       "  <thead>\n",
       "    <tr style=\"text-align: right;\">\n",
       "      <th></th>\n",
       "      <th>Query_ID</th>\n",
       "      <th>Pre_Resolved_Query</th>\n",
       "    </tr>\n",
       "  </thead>\n",
       "  <tbody>\n",
       "    <tr>\n",
       "      <th>0</th>\n",
       "      <td>1</td>\n",
       "      <td>Unable to connect to the internet</td>\n",
       "    </tr>\n",
       "    <tr>\n",
       "      <th>1</th>\n",
       "      <td>2</td>\n",
       "      <td>Payment failed during checkout</td>\n",
       "    </tr>\n",
       "    <tr>\n",
       "      <th>2</th>\n",
       "      <td>3</td>\n",
       "      <td>App crashes when opening settings</td>\n",
       "    </tr>\n",
       "    <tr>\n",
       "      <th>3</th>\n",
       "      <td>4</td>\n",
       "      <td>Forgot password and unable to reset</td>\n",
       "    </tr>\n",
       "    <tr>\n",
       "      <th>4</th>\n",
       "      <td>5</td>\n",
       "      <td>Unable to upload files to the server</td>\n",
       "    </tr>\n",
       "  </tbody>\n",
       "</table>\n",
       "</div>"
      ],
      "text/plain": [
       "   Query_ID                    Pre_Resolved_Query\n",
       "0         1     Unable to connect to the internet\n",
       "1         2        Payment failed during checkout\n",
       "2         3     App crashes when opening settings\n",
       "3         4   Forgot password and unable to reset\n",
       "4         5  Unable to upload files to the server"
      ]
     },
     "execution_count": 90,
     "metadata": {},
     "output_type": "execute_result"
    }
   ],
   "source": [
    "solved = pd.read_csv('resolved_queries.csv')\n",
    "solved.head()"
   ]
  },
  {
   "cell_type": "code",
   "execution_count": 91,
   "id": "116584a1",
   "metadata": {},
   "outputs": [
    {
     "data": {
      "text/html": [
       "<div>\n",
       "<style scoped>\n",
       "    .dataframe tbody tr th:only-of-type {\n",
       "        vertical-align: middle;\n",
       "    }\n",
       "\n",
       "    .dataframe tbody tr th {\n",
       "        vertical-align: top;\n",
       "    }\n",
       "\n",
       "    .dataframe thead th {\n",
       "        text-align: right;\n",
       "    }\n",
       "</style>\n",
       "<table border=\"1\" class=\"dataframe\">\n",
       "  <thead>\n",
       "    <tr style=\"text-align: right;\">\n",
       "      <th></th>\n",
       "      <th>Query_ID</th>\n",
       "    </tr>\n",
       "  </thead>\n",
       "  <tbody>\n",
       "    <tr>\n",
       "      <th>count</th>\n",
       "      <td>5.000000</td>\n",
       "    </tr>\n",
       "    <tr>\n",
       "      <th>mean</th>\n",
       "      <td>3.000000</td>\n",
       "    </tr>\n",
       "    <tr>\n",
       "      <th>std</th>\n",
       "      <td>1.581139</td>\n",
       "    </tr>\n",
       "    <tr>\n",
       "      <th>min</th>\n",
       "      <td>1.000000</td>\n",
       "    </tr>\n",
       "    <tr>\n",
       "      <th>25%</th>\n",
       "      <td>2.000000</td>\n",
       "    </tr>\n",
       "    <tr>\n",
       "      <th>50%</th>\n",
       "      <td>3.000000</td>\n",
       "    </tr>\n",
       "    <tr>\n",
       "      <th>75%</th>\n",
       "      <td>4.000000</td>\n",
       "    </tr>\n",
       "    <tr>\n",
       "      <th>max</th>\n",
       "      <td>5.000000</td>\n",
       "    </tr>\n",
       "  </tbody>\n",
       "</table>\n",
       "</div>"
      ],
      "text/plain": [
       "       Query_ID\n",
       "count  5.000000\n",
       "mean   3.000000\n",
       "std    1.581139\n",
       "min    1.000000\n",
       "25%    2.000000\n",
       "50%    3.000000\n",
       "75%    4.000000\n",
       "max    5.000000"
      ]
     },
     "execution_count": 91,
     "metadata": {},
     "output_type": "execute_result"
    }
   ],
   "source": [
    "solved.describe()"
   ]
  },
  {
   "cell_type": "code",
   "execution_count": 92,
   "id": "03c8bf80",
   "metadata": {},
   "outputs": [
    {
     "data": {
      "text/html": [
       "<div>\n",
       "<style scoped>\n",
       "    .dataframe tbody tr th:only-of-type {\n",
       "        vertical-align: middle;\n",
       "    }\n",
       "\n",
       "    .dataframe tbody tr th {\n",
       "        vertical-align: top;\n",
       "    }\n",
       "\n",
       "    .dataframe thead th {\n",
       "        text-align: right;\n",
       "    }\n",
       "</style>\n",
       "<table border=\"1\" class=\"dataframe\">\n",
       "  <thead>\n",
       "    <tr style=\"text-align: right;\">\n",
       "      <th></th>\n",
       "      <th>Variation_Query</th>\n",
       "      <th>Matches_With_Query_ID</th>\n",
       "    </tr>\n",
       "  </thead>\n",
       "  <tbody>\n",
       "    <tr>\n",
       "      <th>0</th>\n",
       "      <td>Unabel to conect to the internet</td>\n",
       "      <td>1</td>\n",
       "    </tr>\n",
       "    <tr>\n",
       "      <th>1</th>\n",
       "      <td>Can’t connect to internet</td>\n",
       "      <td>1</td>\n",
       "    </tr>\n",
       "    <tr>\n",
       "      <th>2</th>\n",
       "      <td>Intenet not working</td>\n",
       "      <td>1</td>\n",
       "    </tr>\n",
       "    <tr>\n",
       "      <th>3</th>\n",
       "      <td>Payment failed while chekout</td>\n",
       "      <td>2</td>\n",
       "    </tr>\n",
       "    <tr>\n",
       "      <th>4</th>\n",
       "      <td>Payment did not go through during chckout</td>\n",
       "      <td>2</td>\n",
       "    </tr>\n",
       "  </tbody>\n",
       "</table>\n",
       "</div>"
      ],
      "text/plain": [
       "                             Variation_Query  Matches_With_Query_ID\n",
       "0           Unabel to conect to the internet                      1\n",
       "1                  Can’t connect to internet                      1\n",
       "2                        Intenet not working                      1\n",
       "3               Payment failed while chekout                      2\n",
       "4  Payment did not go through during chckout                      2"
      ]
     },
     "execution_count": 92,
     "metadata": {},
     "output_type": "execute_result"
    }
   ],
   "source": [
    "new = pd.read_csv('new_queries.csv')\n",
    "new.head()"
   ]
  },
  {
   "cell_type": "code",
   "execution_count": 93,
   "id": "850189b4",
   "metadata": {},
   "outputs": [
    {
     "data": {
      "text/plain": [
       "(20, 2)"
      ]
     },
     "execution_count": 93,
     "metadata": {},
     "output_type": "execute_result"
    }
   ],
   "source": [
    "new.shape"
   ]
  },
  {
   "cell_type": "code",
   "execution_count": 94,
   "id": "4798434e",
   "metadata": {},
   "outputs": [],
   "source": [
    "def preprocess_text(text):\n",
    "    text = text.lower()  # Lowercase\n",
    "    text = re.sub(r'\\W', ' ', text)  # Remove punctuation\n",
    "    text = re.sub(r'\\s+', ' ', text)  # Remove extra spaces\n",
    "    stop_words = set(stopwords.words('english'))\n",
    "    text = ' '.join([word for word in text.split() if word not in stop_words])  # Remove stopwords\n",
    "    return text"
   ]
  },
  {
   "cell_type": "code",
   "execution_count": 95,
   "id": "7fe60464",
   "metadata": {},
   "outputs": [],
   "source": [
    "solved['Pre_Resolved_Query'] = solved['Pre_Resolved_Query'].apply(preprocess_text)\n",
    "new['Variation_Query'] = new['Variation_Query'].apply(preprocess_text)"
   ]
  },
  {
   "cell_type": "markdown",
   "id": "a2445375",
   "metadata": {},
   "source": [
    "## Fuzzy Search"
   ]
  },
  {
   "cell_type": "code",
   "execution_count": 100,
   "id": "c4e48661",
   "metadata": {},
   "outputs": [],
   "source": [
    "def fuzzy_match(unresolved_query, resolved_queries, resolved_query_ids, threshold=80):\n",
    "    best_match = None\n",
    "    best_match_id = None\n",
    "    best_score = 0\n",
    "    for idx, resolved_query in enumerate(resolved_queries):\n",
    "        score = fuzz.token_set_ratio(unresolved_query, resolved_query)  # Using Token Set Ratio\n",
    "        if score > best_score and score >= threshold:\n",
    "            best_score = score\n",
    "            best_match = resolved_query\n",
    "            best_match_id = resolved_query_ids[idx]  # Get the corresponding Query_ID\n",
    "    return best_match_id, best_score"
   ]
  },
  {
   "cell_type": "code",
   "execution_count": 104,
   "id": "1410dabc",
   "metadata": {},
   "outputs": [],
   "source": [
    "fuzzy_results = []\n",
    "for uq in new['Variation_Query']:\n",
    "    match_id, score = fuzzy_match(uq, solved['Pre_Resolved_Query'], solved['Query_ID'], threshold=80)\n",
    "    fuzzy_results.append({'Variation_Query': uq, 'Matches_With_Query_ID': match_id, 'Score': score})"
   ]
  },
  {
   "cell_type": "code",
   "execution_count": 105,
   "id": "fe3ace0f",
   "metadata": {},
   "outputs": [
    {
     "data": {
      "text/html": [
       "<div>\n",
       "<style scoped>\n",
       "    .dataframe tbody tr th:only-of-type {\n",
       "        vertical-align: middle;\n",
       "    }\n",
       "\n",
       "    .dataframe tbody tr th {\n",
       "        vertical-align: top;\n",
       "    }\n",
       "\n",
       "    .dataframe thead th {\n",
       "        text-align: right;\n",
       "    }\n",
       "</style>\n",
       "<table border=\"1\" class=\"dataframe\">\n",
       "  <thead>\n",
       "    <tr style=\"text-align: right;\">\n",
       "      <th></th>\n",
       "      <th>Variation_Query</th>\n",
       "      <th>Matches_With_Query_ID</th>\n",
       "      <th>Score</th>\n",
       "    </tr>\n",
       "  </thead>\n",
       "  <tbody>\n",
       "    <tr>\n",
       "      <th>0</th>\n",
       "      <td>unabel conect internet</td>\n",
       "      <td>1.0</td>\n",
       "      <td>93</td>\n",
       "    </tr>\n",
       "    <tr>\n",
       "      <th>1</th>\n",
       "      <td>connect internet</td>\n",
       "      <td>1.0</td>\n",
       "      <td>100</td>\n",
       "    </tr>\n",
       "    <tr>\n",
       "      <th>2</th>\n",
       "      <td>intenet working</td>\n",
       "      <td>NaN</td>\n",
       "      <td>0</td>\n",
       "    </tr>\n",
       "    <tr>\n",
       "      <th>3</th>\n",
       "      <td>payment failed chekout</td>\n",
       "      <td>2.0</td>\n",
       "      <td>98</td>\n",
       "    </tr>\n",
       "    <tr>\n",
       "      <th>4</th>\n",
       "      <td>payment go chckout</td>\n",
       "      <td>NaN</td>\n",
       "      <td>0</td>\n",
       "    </tr>\n",
       "    <tr>\n",
       "      <th>5</th>\n",
       "      <td>payment issue check</td>\n",
       "      <td>NaN</td>\n",
       "      <td>0</td>\n",
       "    </tr>\n",
       "    <tr>\n",
       "      <th>6</th>\n",
       "      <td>application crashes opening setings</td>\n",
       "      <td>3.0</td>\n",
       "      <td>86</td>\n",
       "    </tr>\n",
       "    <tr>\n",
       "      <th>7</th>\n",
       "      <td>app crash going settings</td>\n",
       "      <td>3.0</td>\n",
       "      <td>88</td>\n",
       "    </tr>\n",
       "    <tr>\n",
       "      <th>8</th>\n",
       "      <td>settings cause app chrash</td>\n",
       "      <td>NaN</td>\n",
       "      <td>0</td>\n",
       "    </tr>\n",
       "    <tr>\n",
       "      <th>9</th>\n",
       "      <td>forgot passwrd cant reset</td>\n",
       "      <td>NaN</td>\n",
       "      <td>0</td>\n",
       "    </tr>\n",
       "    <tr>\n",
       "      <th>10</th>\n",
       "      <td>forgotten password unable reset</td>\n",
       "      <td>4.0</td>\n",
       "      <td>95</td>\n",
       "    </tr>\n",
       "    <tr>\n",
       "      <th>11</th>\n",
       "      <td>reset password</td>\n",
       "      <td>4.0</td>\n",
       "      <td>100</td>\n",
       "    </tr>\n",
       "    <tr>\n",
       "      <th>12</th>\n",
       "      <td>unable uplod file server</td>\n",
       "      <td>5.0</td>\n",
       "      <td>96</td>\n",
       "    </tr>\n",
       "    <tr>\n",
       "      <th>13</th>\n",
       "      <td>upload files server</td>\n",
       "      <td>5.0</td>\n",
       "      <td>100</td>\n",
       "    </tr>\n",
       "    <tr>\n",
       "      <th>14</th>\n",
       "      <td>file uploading server working</td>\n",
       "      <td>NaN</td>\n",
       "      <td>0</td>\n",
       "    </tr>\n",
       "    <tr>\n",
       "      <th>15</th>\n",
       "      <td>internet connection please help</td>\n",
       "      <td>NaN</td>\n",
       "      <td>0</td>\n",
       "    </tr>\n",
       "    <tr>\n",
       "      <th>16</th>\n",
       "      <td>checkout page says payment failed</td>\n",
       "      <td>2.0</td>\n",
       "      <td>100</td>\n",
       "    </tr>\n",
       "    <tr>\n",
       "      <th>17</th>\n",
       "      <td>settings page crashes app immediately</td>\n",
       "      <td>3.0</td>\n",
       "      <td>83</td>\n",
       "    </tr>\n",
       "    <tr>\n",
       "      <th>18</th>\n",
       "      <td>password reset link working</td>\n",
       "      <td>NaN</td>\n",
       "      <td>0</td>\n",
       "    </tr>\n",
       "    <tr>\n",
       "      <th>19</th>\n",
       "      <td>server upload fails error message</td>\n",
       "      <td>NaN</td>\n",
       "      <td>0</td>\n",
       "    </tr>\n",
       "  </tbody>\n",
       "</table>\n",
       "</div>"
      ],
      "text/plain": [
       "                          Variation_Query  Matches_With_Query_ID  Score\n",
       "0                  unabel conect internet                    1.0     93\n",
       "1                        connect internet                    1.0    100\n",
       "2                         intenet working                    NaN      0\n",
       "3                  payment failed chekout                    2.0     98\n",
       "4                      payment go chckout                    NaN      0\n",
       "5                     payment issue check                    NaN      0\n",
       "6     application crashes opening setings                    3.0     86\n",
       "7                app crash going settings                    3.0     88\n",
       "8               settings cause app chrash                    NaN      0\n",
       "9               forgot passwrd cant reset                    NaN      0\n",
       "10        forgotten password unable reset                    4.0     95\n",
       "11                         reset password                    4.0    100\n",
       "12               unable uplod file server                    5.0     96\n",
       "13                    upload files server                    5.0    100\n",
       "14          file uploading server working                    NaN      0\n",
       "15        internet connection please help                    NaN      0\n",
       "16      checkout page says payment failed                    2.0    100\n",
       "17  settings page crashes app immediately                    3.0     83\n",
       "18            password reset link working                    NaN      0\n",
       "19      server upload fails error message                    NaN      0"
      ]
     },
     "execution_count": 105,
     "metadata": {},
     "output_type": "execute_result"
    }
   ],
   "source": [
    "fuzzy_df = pd.DataFrame(fuzzy_results)\n",
    "fuzzy_df"
   ]
  },
  {
   "cell_type": "code",
   "execution_count": 106,
   "id": "7ac1b84c",
   "metadata": {},
   "outputs": [
    {
     "data": {
      "text/plain": [
       "(20, 3)"
      ]
     },
     "execution_count": 106,
     "metadata": {},
     "output_type": "execute_result"
    }
   ],
   "source": [
    "fuzzy_df.shape"
   ]
  },
  {
   "cell_type": "code",
   "execution_count": 108,
   "id": "28253d2a",
   "metadata": {},
   "outputs": [
    {
     "name": "stdout",
     "output_type": "stream",
     "text": [
      "Accuracy:  55.00000000000001\n"
     ]
    }
   ],
   "source": [
    "correct = 0\n",
    "for i in range(new.shape[0]):\n",
    "    if new['Matches_With_Query_ID'][i] == fuzzy_df['Matches_With_Query_ID'][i]:\n",
    "        correct += 1\n",
    "\n",
    "accuracy = (correct/new.shape[0])*100\n",
    "print(\"Accuracy: \",accuracy)"
   ]
  },
  {
   "cell_type": "markdown",
   "id": "e92aa217",
   "metadata": {},
   "source": [
    "## Cosine Similarity"
   ]
  },
  {
   "cell_type": "code",
   "execution_count": 30,
   "id": "7c247a31",
   "metadata": {},
   "outputs": [],
   "source": [
    "vectorizer = TfidfVectorizer()  # Use CountVectorizer() for BoW instead of Tf-IDF\n",
    "resolved_vectors = vectorizer.fit_transform(solved['Pre_Resolved_Query'])\n",
    "unresolved_vectors = vectorizer.transform(new['Variation_Query'])"
   ]
  },
  {
   "cell_type": "code",
   "execution_count": 31,
   "id": "005a7511",
   "metadata": {},
   "outputs": [],
   "source": [
    "cosine_sim_matrix = cosine_similarity(unresolved_vectors, resolved_vectors)"
   ]
  },
  {
   "cell_type": "code",
   "execution_count": 33,
   "id": "9323e96f",
   "metadata": {},
   "outputs": [],
   "source": [
    "cosine_results = []\n",
    "for idx, uq in enumerate(new['Variation_Query']):\n",
    "    similarity_scores = cosine_sim_matrix[idx]\n",
    "    best_match_idx = similarity_scores.argmax()\n",
    "    best_match_id = solved['Query_ID'].iloc[best_match_idx]  # Get the corresponding Query_ID\n",
    "    best_score = similarity_scores[best_match_idx]\n",
    "    cosine_results.append({'Variation_Query': uq, 'Matches_With_Query_ID': best_match_id, 'Cosine_Similarity': best_score})"
   ]
  },
  {
   "cell_type": "code",
   "execution_count": 34,
   "id": "e464bff1",
   "metadata": {},
   "outputs": [
    {
     "data": {
      "text/html": [
       "<div>\n",
       "<style scoped>\n",
       "    .dataframe tbody tr th:only-of-type {\n",
       "        vertical-align: middle;\n",
       "    }\n",
       "\n",
       "    .dataframe tbody tr th {\n",
       "        vertical-align: top;\n",
       "    }\n",
       "\n",
       "    .dataframe thead th {\n",
       "        text-align: right;\n",
       "    }\n",
       "</style>\n",
       "<table border=\"1\" class=\"dataframe\">\n",
       "  <thead>\n",
       "    <tr style=\"text-align: right;\">\n",
       "      <th></th>\n",
       "      <th>Variation_Query</th>\n",
       "      <th>Matches_With_Query_ID</th>\n",
       "      <th>Cosine_Similarity</th>\n",
       "    </tr>\n",
       "  </thead>\n",
       "  <tbody>\n",
       "    <tr>\n",
       "      <th>0</th>\n",
       "      <td>unabel conect internet</td>\n",
       "      <td>1</td>\n",
       "      <td>0.639070</td>\n",
       "    </tr>\n",
       "    <tr>\n",
       "      <th>1</th>\n",
       "      <td>connect internet</td>\n",
       "      <td>1</td>\n",
       "      <td>0.903782</td>\n",
       "    </tr>\n",
       "    <tr>\n",
       "      <th>2</th>\n",
       "      <td>intenet working</td>\n",
       "      <td>1</td>\n",
       "      <td>0.000000</td>\n",
       "    </tr>\n",
       "    <tr>\n",
       "      <th>3</th>\n",
       "      <td>payment failed chekout</td>\n",
       "      <td>2</td>\n",
       "      <td>0.816497</td>\n",
       "    </tr>\n",
       "    <tr>\n",
       "      <th>4</th>\n",
       "      <td>payment go chckout</td>\n",
       "      <td>2</td>\n",
       "      <td>0.577350</td>\n",
       "    </tr>\n",
       "    <tr>\n",
       "      <th>5</th>\n",
       "      <td>payment issue check</td>\n",
       "      <td>2</td>\n",
       "      <td>0.577350</td>\n",
       "    </tr>\n",
       "    <tr>\n",
       "      <th>6</th>\n",
       "      <td>application crashes opening setings</td>\n",
       "      <td>3</td>\n",
       "      <td>0.707107</td>\n",
       "    </tr>\n",
       "    <tr>\n",
       "      <th>7</th>\n",
       "      <td>app crash going settings</td>\n",
       "      <td>3</td>\n",
       "      <td>0.707107</td>\n",
       "    </tr>\n",
       "    <tr>\n",
       "      <th>8</th>\n",
       "      <td>settings cause app chrash</td>\n",
       "      <td>3</td>\n",
       "      <td>0.707107</td>\n",
       "    </tr>\n",
       "    <tr>\n",
       "      <th>9</th>\n",
       "      <td>forgot passwrd cant reset</td>\n",
       "      <td>4</td>\n",
       "      <td>0.761551</td>\n",
       "    </tr>\n",
       "    <tr>\n",
       "      <th>10</th>\n",
       "      <td>forgotten password unable reset</td>\n",
       "      <td>4</td>\n",
       "      <td>0.842627</td>\n",
       "    </tr>\n",
       "    <tr>\n",
       "      <th>11</th>\n",
       "      <td>reset password</td>\n",
       "      <td>4</td>\n",
       "      <td>0.761551</td>\n",
       "    </tr>\n",
       "    <tr>\n",
       "      <th>12</th>\n",
       "      <td>unable uplod file server</td>\n",
       "      <td>5</td>\n",
       "      <td>0.648105</td>\n",
       "    </tr>\n",
       "    <tr>\n",
       "      <th>13</th>\n",
       "      <td>upload files server</td>\n",
       "      <td>5</td>\n",
       "      <td>0.932706</td>\n",
       "    </tr>\n",
       "    <tr>\n",
       "      <th>14</th>\n",
       "      <td>file uploading server working</td>\n",
       "      <td>5</td>\n",
       "      <td>0.538498</td>\n",
       "    </tr>\n",
       "    <tr>\n",
       "      <th>15</th>\n",
       "      <td>internet connection please help</td>\n",
       "      <td>1</td>\n",
       "      <td>0.639070</td>\n",
       "    </tr>\n",
       "    <tr>\n",
       "      <th>16</th>\n",
       "      <td>checkout page says payment failed</td>\n",
       "      <td>2</td>\n",
       "      <td>1.000000</td>\n",
       "    </tr>\n",
       "    <tr>\n",
       "      <th>17</th>\n",
       "      <td>settings page crashes app immediately</td>\n",
       "      <td>3</td>\n",
       "      <td>0.866025</td>\n",
       "    </tr>\n",
       "    <tr>\n",
       "      <th>18</th>\n",
       "      <td>password reset link working</td>\n",
       "      <td>4</td>\n",
       "      <td>0.761551</td>\n",
       "    </tr>\n",
       "    <tr>\n",
       "      <th>19</th>\n",
       "      <td>server upload fails error message</td>\n",
       "      <td>5</td>\n",
       "      <td>0.761551</td>\n",
       "    </tr>\n",
       "  </tbody>\n",
       "</table>\n",
       "</div>"
      ],
      "text/plain": [
       "                          Variation_Query  Matches_With_Query_ID  \\\n",
       "0                  unabel conect internet                      1   \n",
       "1                        connect internet                      1   \n",
       "2                         intenet working                      1   \n",
       "3                  payment failed chekout                      2   \n",
       "4                      payment go chckout                      2   \n",
       "5                     payment issue check                      2   \n",
       "6     application crashes opening setings                      3   \n",
       "7                app crash going settings                      3   \n",
       "8               settings cause app chrash                      3   \n",
       "9               forgot passwrd cant reset                      4   \n",
       "10        forgotten password unable reset                      4   \n",
       "11                         reset password                      4   \n",
       "12               unable uplod file server                      5   \n",
       "13                    upload files server                      5   \n",
       "14          file uploading server working                      5   \n",
       "15        internet connection please help                      1   \n",
       "16      checkout page says payment failed                      2   \n",
       "17  settings page crashes app immediately                      3   \n",
       "18            password reset link working                      4   \n",
       "19      server upload fails error message                      5   \n",
       "\n",
       "    Cosine_Similarity  \n",
       "0            0.639070  \n",
       "1            0.903782  \n",
       "2            0.000000  \n",
       "3            0.816497  \n",
       "4            0.577350  \n",
       "5            0.577350  \n",
       "6            0.707107  \n",
       "7            0.707107  \n",
       "8            0.707107  \n",
       "9            0.761551  \n",
       "10           0.842627  \n",
       "11           0.761551  \n",
       "12           0.648105  \n",
       "13           0.932706  \n",
       "14           0.538498  \n",
       "15           0.639070  \n",
       "16           1.000000  \n",
       "17           0.866025  \n",
       "18           0.761551  \n",
       "19           0.761551  "
      ]
     },
     "execution_count": 34,
     "metadata": {},
     "output_type": "execute_result"
    }
   ],
   "source": [
    "cosine_df = pd.DataFrame(cosine_results)\n",
    "cosine_df"
   ]
  },
  {
   "cell_type": "code",
   "execution_count": 35,
   "id": "d979e92e",
   "metadata": {},
   "outputs": [
    {
     "data": {
      "text/plain": [
       "(20, 3)"
      ]
     },
     "execution_count": 35,
     "metadata": {},
     "output_type": "execute_result"
    }
   ],
   "source": [
    "cosine_df.shape"
   ]
  },
  {
   "cell_type": "code",
   "execution_count": 41,
   "id": "52f9e47a",
   "metadata": {},
   "outputs": [
    {
     "name": "stdout",
     "output_type": "stream",
     "text": [
      "Accuracy:  100.0\n"
     ]
    }
   ],
   "source": [
    "correct = 0\n",
    "for i in range(new.shape[0]):\n",
    "    if new['Matches_With_Query_ID'][i] == cosine_df['Matches_With_Query_ID'][i]:\n",
    "        correct += 1\n",
    "\n",
    "accuracy = (correct/new.shape[0])*100\n",
    "print(\"Accuracy: \",accuracy)"
   ]
  },
  {
   "cell_type": "code",
   "execution_count": null,
   "id": "ea1d7a08",
   "metadata": {},
   "outputs": [],
   "source": []
  }
 ],
 "metadata": {
  "kernelspec": {
   "display_name": "Python 3 (ipykernel)",
   "language": "python",
   "name": "python3"
  },
  "language_info": {
   "codemirror_mode": {
    "name": "ipython",
    "version": 3
   },
   "file_extension": ".py",
   "mimetype": "text/x-python",
   "name": "python",
   "nbconvert_exporter": "python",
   "pygments_lexer": "ipython3",
   "version": "3.9.13"
  }
 },
 "nbformat": 4,
 "nbformat_minor": 5
}
