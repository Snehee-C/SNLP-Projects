{
 "cells": [
  {
   "cell_type": "code",
   "execution_count": 1,
   "id": "4afe4e38",
   "metadata": {
    "_cell_guid": "b1076dfc-b9ad-4769-8c92-a6c4dae69d19",
    "_uuid": "8f2839f25d086af736a60e9eeb907d3b93b6e0e5",
    "execution": {
     "iopub.execute_input": "2024-09-01T06:45:48.670218Z",
     "iopub.status.busy": "2024-09-01T06:45:48.669405Z",
     "iopub.status.idle": "2024-09-01T06:45:49.556379Z",
     "shell.execute_reply": "2024-09-01T06:45:49.555513Z"
    },
    "papermill": {
     "duration": 0.896238,
     "end_time": "2024-09-01T06:45:49.558730",
     "exception": false,
     "start_time": "2024-09-01T06:45:48.662492",
     "status": "completed"
    },
    "tags": []
   },
   "outputs": [
    {
     "name": "stdout",
     "output_type": "stream",
     "text": [
      "/kaggle/input/lecture-5-imdb-review-clf/__results__.html\n",
      "/kaggle/input/lecture-5-imdb-review-clf/__notebook__.ipynb\n",
      "/kaggle/input/lecture-5-imdb-review-clf/__output__.json\n",
      "/kaggle/input/lecture-5-imdb-review-clf/custom.css\n",
      "/kaggle/input/lecture-5-imdb-review-clf/results/config.json\n",
      "/kaggle/input/lecture-5-imdb-review-clf/results/trainer_state.json\n",
      "/kaggle/input/lecture-5-imdb-review-clf/results/training_args.bin\n",
      "/kaggle/input/lecture-5-imdb-review-clf/results/tokenizer.json\n",
      "/kaggle/input/lecture-5-imdb-review-clf/results/tokenizer_config.json\n",
      "/kaggle/input/lecture-5-imdb-review-clf/results/model.safetensors\n",
      "/kaggle/input/lecture-5-imdb-review-clf/results/special_tokens_map.json\n",
      "/kaggle/input/lecture-5-imdb-review-clf/results/vocab.txt\n",
      "/kaggle/input/lecture-5-imdb-review-clf/results/checkpoint-189/config.json\n",
      "/kaggle/input/lecture-5-imdb-review-clf/results/checkpoint-189/trainer_state.json\n",
      "/kaggle/input/lecture-5-imdb-review-clf/results/checkpoint-189/training_args.bin\n",
      "/kaggle/input/lecture-5-imdb-review-clf/results/checkpoint-189/tokenizer.json\n",
      "/kaggle/input/lecture-5-imdb-review-clf/results/checkpoint-189/tokenizer_config.json\n",
      "/kaggle/input/lecture-5-imdb-review-clf/results/checkpoint-189/scheduler.pt\n",
      "/kaggle/input/lecture-5-imdb-review-clf/results/checkpoint-189/model.safetensors\n",
      "/kaggle/input/lecture-5-imdb-review-clf/results/checkpoint-189/special_tokens_map.json\n",
      "/kaggle/input/lecture-5-imdb-review-clf/results/checkpoint-189/optimizer.pt\n",
      "/kaggle/input/lecture-5-imdb-review-clf/results/checkpoint-189/vocab.txt\n",
      "/kaggle/input/lecture-5-imdb-review-clf/results/checkpoint-189/rng_state.pth\n",
      "/kaggle/input/imdb-dataset/IMDB Dataset 3.csv\n"
     ]
    }
   ],
   "source": [
    "# This Python 3 environment comes with many helpful analytics libraries installed\n",
    "# It is defined by the kaggle/python Docker image: https://github.com/kaggle/docker-python\n",
    "# For example, here's several helpful packages to load\n",
    "\n",
    "import numpy as np # linear algebra\n",
    "import pandas as pd # data processing, CSV file I/O (e.g. pd.read_csv)\n",
    "\n",
    "# Input data files are available in the read-only \"../input/\" directory\n",
    "# For example, running this (by clicking run or pressing Shift+Enter) will list all files under the input directory\n",
    "\n",
    "import os\n",
    "for dirname, _, filenames in os.walk('/kaggle/input'):\n",
    "    for filename in filenames:\n",
    "        print(os.path.join(dirname, filename))\n",
    "\n",
    "# You can write up to 20GB to the current directory (/kaggle/working/) that gets preserved as output when you create a version using \"Save & Run All\" \n",
    "# You can also write temporary files to /kaggle/temp/, but they won't be saved outside of the current session"
   ]
  },
  {
   "cell_type": "code",
   "execution_count": 2,
   "id": "cdd25cad",
   "metadata": {
    "execution": {
     "iopub.execute_input": "2024-09-01T06:45:49.571141Z",
     "iopub.status.busy": "2024-09-01T06:45:49.570251Z",
     "iopub.status.idle": "2024-09-01T06:45:55.472716Z",
     "shell.execute_reply": "2024-09-01T06:45:55.471876Z"
    },
    "papermill": {
     "duration": 5.910673,
     "end_time": "2024-09-01T06:45:55.474938",
     "exception": false,
     "start_time": "2024-09-01T06:45:49.564265",
     "status": "completed"
    },
    "tags": []
   },
   "outputs": [],
   "source": [
    "import torch\n",
    "import transformers\n",
    "import pandas as pd\n",
    "import numpy as np\n",
    "\n",
    "from sklearn import model_selection, metrics"
   ]
  },
  {
   "cell_type": "code",
   "execution_count": 3,
   "id": "fbea94aa",
   "metadata": {
    "execution": {
     "iopub.execute_input": "2024-09-01T06:45:55.487312Z",
     "iopub.status.busy": "2024-09-01T06:45:55.486881Z",
     "iopub.status.idle": "2024-09-01T06:45:55.494078Z",
     "shell.execute_reply": "2024-09-01T06:45:55.493246Z"
    },
    "papermill": {
     "duration": 0.015301,
     "end_time": "2024-09-01T06:45:55.495977",
     "exception": false,
     "start_time": "2024-09-01T06:45:55.480676",
     "status": "completed"
    },
    "tags": []
   },
   "outputs": [],
   "source": [
    "class TextDataset:\n",
    "\n",
    "    def __init__(self, data):\n",
    "        self.data = data\n",
    "\n",
    "    def __len__(self):\n",
    "        return self.data.shape[0]\n",
    "\n",
    "    def __getitem__(self, idx):\n",
    "        row = self.data.iloc[idx]\n",
    "\n",
    "        enc = tokenizer(\n",
    "            row[\"text\"],\n",
    "            max_length=10,\n",
    "            truncation=True,\n",
    "            padding=\"max_length\"\n",
    "        )\n",
    "\n",
    "        return {\n",
    "            \"input_ids\": torch.tensor(enc[\"input_ids\"]),\n",
    "            \"attention_mask\": torch.tensor(enc[\"attention_mask\"]),\n",
    "            # \"label\": torch.tensor(row[\"label\"]),\n",
    "        }"
   ]
  },
  {
   "cell_type": "code",
   "execution_count": 4,
   "id": "90c5fba1",
   "metadata": {
    "execution": {
     "iopub.execute_input": "2024-09-01T06:45:55.507705Z",
     "iopub.status.busy": "2024-09-01T06:45:55.507015Z",
     "iopub.status.idle": "2024-09-01T06:45:56.887284Z",
     "shell.execute_reply": "2024-09-01T06:45:56.886323Z"
    },
    "papermill": {
     "duration": 1.38816,
     "end_time": "2024-09-01T06:45:56.889251",
     "exception": false,
     "start_time": "2024-09-01T06:45:55.501091",
     "status": "completed"
    },
    "tags": []
   },
   "outputs": [
    {
     "name": "stdout",
     "output_type": "stream",
     "text": [
      "(50000, 3)\n"
     ]
    },
    {
     "data": {
      "text/html": [
       "<div>\n",
       "<style scoped>\n",
       "    .dataframe tbody tr th:only-of-type {\n",
       "        vertical-align: middle;\n",
       "    }\n",
       "\n",
       "    .dataframe tbody tr th {\n",
       "        vertical-align: top;\n",
       "    }\n",
       "\n",
       "    .dataframe thead th {\n",
       "        text-align: right;\n",
       "    }\n",
       "</style>\n",
       "<table border=\"1\" class=\"dataframe\">\n",
       "  <thead>\n",
       "    <tr style=\"text-align: right;\">\n",
       "      <th></th>\n",
       "      <th>text</th>\n",
       "      <th>sentiment</th>\n",
       "      <th>label</th>\n",
       "    </tr>\n",
       "  </thead>\n",
       "  <tbody>\n",
       "    <tr>\n",
       "      <th>0</th>\n",
       "      <td>One of the other reviewers has mentioned that ...</td>\n",
       "      <td>positive</td>\n",
       "      <td>1</td>\n",
       "    </tr>\n",
       "    <tr>\n",
       "      <th>1</th>\n",
       "      <td>A wonderful little production. &lt;br /&gt;&lt;br /&gt;The...</td>\n",
       "      <td>positive</td>\n",
       "      <td>1</td>\n",
       "    </tr>\n",
       "    <tr>\n",
       "      <th>2</th>\n",
       "      <td>I thought this was a wonderful way to spend ti...</td>\n",
       "      <td>positive</td>\n",
       "      <td>1</td>\n",
       "    </tr>\n",
       "    <tr>\n",
       "      <th>3</th>\n",
       "      <td>Basically there's a family where a little boy ...</td>\n",
       "      <td>negative</td>\n",
       "      <td>0</td>\n",
       "    </tr>\n",
       "    <tr>\n",
       "      <th>4</th>\n",
       "      <td>Petter Mattei's \"Love in the Time of Money\" is...</td>\n",
       "      <td>positive</td>\n",
       "      <td>1</td>\n",
       "    </tr>\n",
       "  </tbody>\n",
       "</table>\n",
       "</div>"
      ],
      "text/plain": [
       "                                                text sentiment  label\n",
       "0  One of the other reviewers has mentioned that ...  positive      1\n",
       "1  A wonderful little production. <br /><br />The...  positive      1\n",
       "2  I thought this was a wonderful way to spend ti...  positive      1\n",
       "3  Basically there's a family where a little boy ...  negative      0\n",
       "4  Petter Mattei's \"Love in the Time of Money\" is...  positive      1"
      ]
     },
     "execution_count": 4,
     "metadata": {},
     "output_type": "execute_result"
    }
   ],
   "source": [
    "df = pd.read_csv(\"/kaggle/input/imdb-dataset/IMDB Dataset 3.csv\").rename(columns={\"review\": \"text\"})\n",
    "\n",
    "id2label = {0: \"negative\", 1: \"positive\"}\n",
    "label2id = {label: id_ for id_, label in id2label.items()}\n",
    "\n",
    "df[\"label\"] = df[\"sentiment\"].map(label2id)\n",
    "\n",
    "print(df.shape)\n",
    "df.head()"
   ]
  },
  {
   "cell_type": "code",
   "execution_count": 5,
   "id": "4037760e",
   "metadata": {
    "execution": {
     "iopub.execute_input": "2024-09-01T06:45:56.902090Z",
     "iopub.status.busy": "2024-09-01T06:45:56.901290Z",
     "iopub.status.idle": "2024-09-01T06:45:59.091155Z",
     "shell.execute_reply": "2024-09-01T06:45:59.090322Z"
    },
    "papermill": {
     "duration": 2.198593,
     "end_time": "2024-09-01T06:45:59.093421",
     "exception": false,
     "start_time": "2024-09-01T06:45:56.894828",
     "status": "completed"
    },
    "tags": []
   },
   "outputs": [],
   "source": [
    "tokenizer = transformers.AutoTokenizer.from_pretrained(\"/kaggle/input/lecture-5-imdb-review-clf/results\")\n",
    "\n",
    "model = transformers.AutoModelForSequenceClassification.from_pretrained(\"/kaggle/input/lecture-5-imdb-review-clf/results\")"
   ]
  },
  {
   "cell_type": "code",
   "execution_count": 6,
   "id": "8dc109fd",
   "metadata": {
    "execution": {
     "iopub.execute_input": "2024-09-01T06:45:59.106251Z",
     "iopub.status.busy": "2024-09-01T06:45:59.105378Z",
     "iopub.status.idle": "2024-09-01T06:45:59.109548Z",
     "shell.execute_reply": "2024-09-01T06:45:59.108697Z"
    },
    "papermill": {
     "duration": 0.012285,
     "end_time": "2024-09-01T06:45:59.111346",
     "exception": false,
     "start_time": "2024-09-01T06:45:59.099061",
     "status": "completed"
    },
    "tags": []
   },
   "outputs": [],
   "source": [
    "ds = TextDataset(df)"
   ]
  },
  {
   "cell_type": "code",
   "execution_count": 7,
   "id": "aa90867e",
   "metadata": {
    "execution": {
     "iopub.execute_input": "2024-09-01T06:45:59.123001Z",
     "iopub.status.busy": "2024-09-01T06:45:59.122721Z",
     "iopub.status.idle": "2024-09-01T06:45:59.140324Z",
     "shell.execute_reply": "2024-09-01T06:45:59.139486Z"
    },
    "papermill": {
     "duration": 0.025532,
     "end_time": "2024-09-01T06:45:59.142180",
     "exception": false,
     "start_time": "2024-09-01T06:45:59.116648",
     "status": "completed"
    },
    "tags": []
   },
   "outputs": [
    {
     "data": {
      "text/plain": [
       "[{'input_ids': tensor([  101,  2028,  1997,  1996,  2060, 15814,  2038,  3855,  2008,   102]),\n",
       "  'attention_mask': tensor([1, 1, 1, 1, 1, 1, 1, 1, 1, 1])},\n",
       " {'input_ids': tensor([ 101, 1037, 6919, 2210, 2537, 1012, 1026, 7987, 1013,  102]),\n",
       "  'attention_mask': tensor([1, 1, 1, 1, 1, 1, 1, 1, 1, 1])}]"
      ]
     },
     "execution_count": 7,
     "metadata": {},
     "output_type": "execute_result"
    }
   ],
   "source": [
    "[ds[0], ds[1]]"
   ]
  },
  {
   "cell_type": "code",
   "execution_count": 8,
   "id": "e9f399cd",
   "metadata": {
    "execution": {
     "iopub.execute_input": "2024-09-01T06:45:59.154962Z",
     "iopub.status.busy": "2024-09-01T06:45:59.154214Z",
     "iopub.status.idle": "2024-09-01T06:45:59.158985Z",
     "shell.execute_reply": "2024-09-01T06:45:59.158151Z"
    },
    "papermill": {
     "duration": 0.013115,
     "end_time": "2024-09-01T06:45:59.160795",
     "exception": false,
     "start_time": "2024-09-01T06:45:59.147680",
     "status": "completed"
    },
    "tags": []
   },
   "outputs": [],
   "source": [
    "dl = torch.utils.data.DataLoader(\n",
    "    ds,\n",
    "    batch_size=2,\n",
    "    shuffle=False,\n",
    "    num_workers=2,\n",
    ")"
   ]
  },
  {
   "cell_type": "code",
   "execution_count": 9,
   "id": "bd6c2535",
   "metadata": {
    "execution": {
     "iopub.execute_input": "2024-09-01T06:45:59.172756Z",
     "iopub.status.busy": "2024-09-01T06:45:59.172469Z",
     "iopub.status.idle": "2024-09-01T06:45:59.847974Z",
     "shell.execute_reply": "2024-09-01T06:45:59.847005Z"
    },
    "papermill": {
     "duration": 0.683646,
     "end_time": "2024-09-01T06:45:59.849958",
     "exception": false,
     "start_time": "2024-09-01T06:45:59.166312",
     "status": "completed"
    },
    "tags": []
   },
   "outputs": [
    {
     "data": {
      "text/plain": [
       "BertForSequenceClassification(\n",
       "  (bert): BertModel(\n",
       "    (embeddings): BertEmbeddings(\n",
       "      (word_embeddings): Embedding(30522, 256, padding_idx=0)\n",
       "      (position_embeddings): Embedding(512, 256)\n",
       "      (token_type_embeddings): Embedding(2, 256)\n",
       "      (LayerNorm): LayerNorm((256,), eps=1e-12, elementwise_affine=True)\n",
       "      (dropout): Dropout(p=0.1, inplace=False)\n",
       "    )\n",
       "    (encoder): BertEncoder(\n",
       "      (layer): ModuleList(\n",
       "        (0-5): 6 x BertLayer(\n",
       "          (attention): BertAttention(\n",
       "            (self): BertSdpaSelfAttention(\n",
       "              (query): Linear(in_features=256, out_features=256, bias=True)\n",
       "              (key): Linear(in_features=256, out_features=256, bias=True)\n",
       "              (value): Linear(in_features=256, out_features=256, bias=True)\n",
       "              (dropout): Dropout(p=0.1, inplace=False)\n",
       "            )\n",
       "            (output): BertSelfOutput(\n",
       "              (dense): Linear(in_features=256, out_features=256, bias=True)\n",
       "              (LayerNorm): LayerNorm((256,), eps=1e-12, elementwise_affine=True)\n",
       "              (dropout): Dropout(p=0.1, inplace=False)\n",
       "            )\n",
       "          )\n",
       "          (intermediate): BertIntermediate(\n",
       "            (dense): Linear(in_features=256, out_features=1024, bias=True)\n",
       "            (intermediate_act_fn): GELUActivation()\n",
       "          )\n",
       "          (output): BertOutput(\n",
       "            (dense): Linear(in_features=1024, out_features=256, bias=True)\n",
       "            (LayerNorm): LayerNorm((256,), eps=1e-12, elementwise_affine=True)\n",
       "            (dropout): Dropout(p=0.1, inplace=False)\n",
       "          )\n",
       "        )\n",
       "      )\n",
       "    )\n",
       "    (pooler): BertPooler(\n",
       "      (dense): Linear(in_features=256, out_features=256, bias=True)\n",
       "      (activation): Tanh()\n",
       "    )\n",
       "  )\n",
       "  (dropout): Dropout(p=0.1, inplace=False)\n",
       "  (classifier): Linear(in_features=256, out_features=2, bias=True)\n",
       ")"
      ]
     },
     "execution_count": 9,
     "metadata": {},
     "output_type": "execute_result"
    }
   ],
   "source": [
    "model.to(\"cuda\")"
   ]
  },
  {
   "cell_type": "code",
   "execution_count": 10,
   "id": "398fa8c4",
   "metadata": {
    "execution": {
     "iopub.execute_input": "2024-09-01T06:45:59.863999Z",
     "iopub.status.busy": "2024-09-01T06:45:59.863656Z",
     "iopub.status.idle": "2024-09-01T06:46:01.238249Z",
     "shell.execute_reply": "2024-09-01T06:46:01.236816Z"
    },
    "papermill": {
     "duration": 1.384658,
     "end_time": "2024-09-01T06:46:01.241048",
     "exception": false,
     "start_time": "2024-09-01T06:45:59.856390",
     "status": "completed"
    },
    "tags": []
   },
   "outputs": [
    {
     "name": "stderr",
     "output_type": "stream",
     "text": [
      "huggingface/tokenizers: The current process just got forked, after parallelism has already been used. Disabling parallelism to avoid deadlocks...\n",
      "To disable this warning, you can either:\n",
      "\t- Avoid using `tokenizers` before the fork if possible\n",
      "\t- Explicitly set the environment variable TOKENIZERS_PARALLELISM=(true | false)\n",
      "huggingface/tokenizers: The current process just got forked, after parallelism has already been used. Disabling parallelism to avoid deadlocks...\n",
      "To disable this warning, you can either:\n",
      "\t- Avoid using `tokenizers` before the fork if possible\n",
      "\t- Explicitly set the environment variable TOKENIZERS_PARALLELISM=(true | false)\n"
     ]
    },
    {
     "name": "stdout",
     "output_type": "stream",
     "text": [
      "{'input_ids': tensor([[  101,  2028,  1997,  1996,  2060, 15814,  2038,  3855,  2008,   102],\n",
      "        [  101,  1037,  6919,  2210,  2537,  1012,  1026,  7987,  1013,   102]]), 'attention_mask': tensor([[1, 1, 1, 1, 1, 1, 1, 1, 1, 1],\n",
      "        [1, 1, 1, 1, 1, 1, 1, 1, 1, 1]])}\n",
      "{'input_ids': tensor([[  101,  1045,  2245,  2023,  2001,  1037,  6919,  2126,  2000,   102],\n",
      "        [  101, 10468,  2045,  1005,  1055,  1037,  2155,  2073,  1037,   102]]), 'attention_mask': tensor([[1, 1, 1, 1, 1, 1, 1, 1, 1, 1],\n",
      "        [1, 1, 1, 1, 1, 1, 1, 1, 1, 1]])}\n",
      "{'input_ids': tensor([[ 101, 9004, 3334, 4717, 7416, 1005, 1055, 1000, 2293,  102],\n",
      "        [ 101, 2763, 2026, 2035, 1011, 2051, 5440, 3185, 1010,  102]]), 'attention_mask': tensor([[1, 1, 1, 1, 1, 1, 1, 1, 1, 1],\n",
      "        [1, 1, 1, 1, 1, 1, 1, 1, 1, 1]])}\n",
      "{'input_ids': tensor([[  101,  1045,  2469,  2052,  2066,  2000,  2156,  1037, 15218,   102],\n",
      "        [  101,  2023,  2265,  2001,  2019,  6429,  1010,  4840,  1004,   102]]), 'attention_mask': tensor([[1, 1, 1, 1, 1, 1, 1, 1, 1, 1],\n",
      "        [1, 1, 1, 1, 1, 1, 1, 1, 1, 1]])}\n",
      "{'input_ids': tensor([[  101,  6628,  2011,  1996,  3893,  7928,  2055,  2023,  2143,   102],\n",
      "        [  101,  2065,  2017,  2066,  2434,  9535, 16255,  8450,  7239,   102]]), 'attention_mask': tensor([[1, 1, 1, 1, 1, 1, 1, 1, 1, 1],\n",
      "        [1, 1, 1, 1, 1, 1, 1, 1, 1, 1]])}\n",
      "{'input_ids': tensor([[  101,  6316,  1996,  7344,  2003,  2028,  1997,  2216, 21864,   102],\n",
      "        [  101,  1045,  2387,  2023,  3185,  2043,  1045,  2001,  2055,   102]]), 'attention_mask': tensor([[1, 1, 1, 1, 1, 1, 1, 1, 1, 1],\n",
      "        [1, 1, 1, 1, 1, 1, 1, 1, 1, 1]])}\n"
     ]
    }
   ],
   "source": [
    "for idx, batch in enumerate(dl):\n",
    "    print(batch)\n",
    "\n",
    "    batch = {k: v.to('cuda') for k, v in batch.items()}\n",
    "\n",
    "    with torch.no_grad():\n",
    "        out = model(input_ids=batch[\"input_ids\"], attention_mask=batch[\"attention_mask\"])\n",
    "\n",
    "    if idx == 5:\n",
    "        break"
   ]
  },
  {
   "cell_type": "code",
   "execution_count": 11,
   "id": "508bec29",
   "metadata": {
    "execution": {
     "iopub.execute_input": "2024-09-01T06:46:01.258704Z",
     "iopub.status.busy": "2024-09-01T06:46:01.257961Z",
     "iopub.status.idle": "2024-09-01T06:46:01.265762Z",
     "shell.execute_reply": "2024-09-01T06:46:01.264901Z"
    },
    "papermill": {
     "duration": 0.017122,
     "end_time": "2024-09-01T06:46:01.267686",
     "exception": false,
     "start_time": "2024-09-01T06:46:01.250564",
     "status": "completed"
    },
    "tags": []
   },
   "outputs": [
    {
     "data": {
      "text/plain": [
       "{'input_ids': tensor([[  101,  6316,  1996,  7344,  2003,  2028,  1997,  2216, 21864,   102],\n",
       "         [  101,  1045,  2387,  2023,  3185,  2043,  1045,  2001,  2055,   102]],\n",
       "        device='cuda:0'),\n",
       " 'attention_mask': tensor([[1, 1, 1, 1, 1, 1, 1, 1, 1, 1],\n",
       "         [1, 1, 1, 1, 1, 1, 1, 1, 1, 1]], device='cuda:0')}"
      ]
     },
     "execution_count": 11,
     "metadata": {},
     "output_type": "execute_result"
    }
   ],
   "source": [
    "batch"
   ]
  },
  {
   "cell_type": "code",
   "execution_count": 12,
   "id": "ed03d945",
   "metadata": {
    "execution": {
     "iopub.execute_input": "2024-09-01T06:46:01.281248Z",
     "iopub.status.busy": "2024-09-01T06:46:01.280946Z",
     "iopub.status.idle": "2024-09-01T06:46:01.288466Z",
     "shell.execute_reply": "2024-09-01T06:46:01.287636Z"
    },
    "papermill": {
     "duration": 0.01661,
     "end_time": "2024-09-01T06:46:01.290350",
     "exception": false,
     "start_time": "2024-09-01T06:46:01.273740",
     "status": "completed"
    },
    "tags": []
   },
   "outputs": [
    {
     "data": {
      "text/plain": [
       "BertForSequenceClassification(\n",
       "  (bert): BertModel(\n",
       "    (embeddings): BertEmbeddings(\n",
       "      (word_embeddings): Embedding(30522, 256, padding_idx=0)\n",
       "      (position_embeddings): Embedding(512, 256)\n",
       "      (token_type_embeddings): Embedding(2, 256)\n",
       "      (LayerNorm): LayerNorm((256,), eps=1e-12, elementwise_affine=True)\n",
       "      (dropout): Dropout(p=0.1, inplace=False)\n",
       "    )\n",
       "    (encoder): BertEncoder(\n",
       "      (layer): ModuleList(\n",
       "        (0-5): 6 x BertLayer(\n",
       "          (attention): BertAttention(\n",
       "            (self): BertSdpaSelfAttention(\n",
       "              (query): Linear(in_features=256, out_features=256, bias=True)\n",
       "              (key): Linear(in_features=256, out_features=256, bias=True)\n",
       "              (value): Linear(in_features=256, out_features=256, bias=True)\n",
       "              (dropout): Dropout(p=0.1, inplace=False)\n",
       "            )\n",
       "            (output): BertSelfOutput(\n",
       "              (dense): Linear(in_features=256, out_features=256, bias=True)\n",
       "              (LayerNorm): LayerNorm((256,), eps=1e-12, elementwise_affine=True)\n",
       "              (dropout): Dropout(p=0.1, inplace=False)\n",
       "            )\n",
       "          )\n",
       "          (intermediate): BertIntermediate(\n",
       "            (dense): Linear(in_features=256, out_features=1024, bias=True)\n",
       "            (intermediate_act_fn): GELUActivation()\n",
       "          )\n",
       "          (output): BertOutput(\n",
       "            (dense): Linear(in_features=1024, out_features=256, bias=True)\n",
       "            (LayerNorm): LayerNorm((256,), eps=1e-12, elementwise_affine=True)\n",
       "            (dropout): Dropout(p=0.1, inplace=False)\n",
       "          )\n",
       "        )\n",
       "      )\n",
       "    )\n",
       "    (pooler): BertPooler(\n",
       "      (dense): Linear(in_features=256, out_features=256, bias=True)\n",
       "      (activation): Tanh()\n",
       "    )\n",
       "  )\n",
       "  (dropout): Dropout(p=0.1, inplace=False)\n",
       "  (classifier): Linear(in_features=256, out_features=2, bias=True)\n",
       ")"
      ]
     },
     "execution_count": 12,
     "metadata": {},
     "output_type": "execute_result"
    }
   ],
   "source": [
    "model.eval()\n",
    "\n"
   ]
  },
  {
   "cell_type": "code",
   "execution_count": 13,
   "id": "28cd0525",
   "metadata": {
    "execution": {
     "iopub.execute_input": "2024-09-01T06:46:01.304177Z",
     "iopub.status.busy": "2024-09-01T06:46:01.303677Z",
     "iopub.status.idle": "2024-09-01T06:46:01.552659Z",
     "shell.execute_reply": "2024-09-01T06:46:01.551649Z"
    },
    "papermill": {
     "duration": 0.257875,
     "end_time": "2024-09-01T06:46:01.554687",
     "exception": false,
     "start_time": "2024-09-01T06:46:01.296812",
     "status": "completed"
    },
    "tags": []
   },
   "outputs": [
    {
     "data": {
      "text/plain": [
       "SequenceClassifierOutput(loss=None, logits=tensor([[-0.4037,  0.4647],\n",
       "        [-0.5049,  0.5901]], device='cuda:0'), hidden_states=None, attentions=None)"
      ]
     },
     "execution_count": 13,
     "metadata": {},
     "output_type": "execute_result"
    }
   ],
   "source": [
    "out"
   ]
  },
  {
   "cell_type": "code",
   "execution_count": 14,
   "id": "b9d03c87",
   "metadata": {
    "execution": {
     "iopub.execute_input": "2024-09-01T06:46:01.569095Z",
     "iopub.status.busy": "2024-09-01T06:46:01.568783Z",
     "iopub.status.idle": "2024-09-01T06:46:16.472948Z",
     "shell.execute_reply": "2024-09-01T06:46:16.472026Z"
    },
    "papermill": {
     "duration": 14.913685,
     "end_time": "2024-09-01T06:46:16.475075",
     "exception": false,
     "start_time": "2024-09-01T06:46:01.561390",
     "status": "completed"
    },
    "tags": []
   },
   "outputs": [
    {
     "name": "stderr",
     "output_type": "stream",
     "text": [
      "Hardware accelerator e.g. GPU is available in the environment, but no `device` argument is passed to the `Pipeline` object. Model will be on CPU.\n"
     ]
    }
   ],
   "source": [
    "pipe = transformers.pipeline(\n",
    "    \"text-classification\",\n",
    "    model=\"/kaggle/input/lecture-5-imdb-review-clf/results\",\n",
    "    batch_size=4\n",
    ")"
   ]
  },
  {
   "cell_type": "code",
   "execution_count": 15,
   "id": "197556c2",
   "metadata": {
    "execution": {
     "iopub.execute_input": "2024-09-01T06:46:16.489846Z",
     "iopub.status.busy": "2024-09-01T06:46:16.489292Z",
     "iopub.status.idle": "2024-09-01T06:46:16.637417Z",
     "shell.execute_reply": "2024-09-01T06:46:16.636440Z"
    },
    "papermill": {
     "duration": 0.157678,
     "end_time": "2024-09-01T06:46:16.639436",
     "exception": false,
     "start_time": "2024-09-01T06:46:16.481758",
     "status": "completed"
    },
    "tags": []
   },
   "outputs": [
    {
     "data": {
      "text/plain": [
       "[{'label': 'LABEL_0', 'score': 0.7931349873542786}]"
      ]
     },
     "execution_count": 15,
     "metadata": {},
     "output_type": "execute_result"
    }
   ],
   "source": [
    "pipe([\"I hated the movie\"])"
   ]
  },
  {
   "cell_type": "code",
   "execution_count": 16,
   "id": "91683626",
   "metadata": {
    "execution": {
     "iopub.execute_input": "2024-09-01T06:46:16.654497Z",
     "iopub.status.busy": "2024-09-01T06:46:16.654125Z",
     "iopub.status.idle": "2024-09-01T06:46:16.669915Z",
     "shell.execute_reply": "2024-09-01T06:46:16.669078Z"
    },
    "papermill": {
     "duration": 0.025604,
     "end_time": "2024-09-01T06:46:16.671817",
     "exception": false,
     "start_time": "2024-09-01T06:46:16.646213",
     "status": "completed"
    },
    "tags": []
   },
   "outputs": [
    {
     "data": {
      "text/plain": [
       "[{'label': 'LABEL_1', 'score': 0.7911466360092163}]"
      ]
     },
     "execution_count": 16,
     "metadata": {},
     "output_type": "execute_result"
    }
   ],
   "source": [
    "pipe([\"The movie was great\"])"
   ]
  },
  {
   "cell_type": "code",
   "execution_count": null,
   "id": "37e32720",
   "metadata": {
    "papermill": {
     "duration": 0.006493,
     "end_time": "2024-09-01T06:46:16.685047",
     "exception": false,
     "start_time": "2024-09-01T06:46:16.678554",
     "status": "completed"
    },
    "tags": []
   },
   "outputs": [],
   "source": []
  }
 ],
 "metadata": {
  "kaggle": {
   "accelerator": "nvidiaTeslaT4",
   "dataSources": [
    {
     "datasetId": 5625471,
     "sourceId": 9292204,
     "sourceType": "datasetVersion"
    },
    {
     "sourceId": 194874279,
     "sourceType": "kernelVersion"
    }
   ],
   "dockerImageVersionId": 30762,
   "isGpuEnabled": true,
   "isInternetEnabled": true,
   "language": "python",
   "sourceType": "notebook"
  },
  "kernelspec": {
   "display_name": "Python 3",
   "language": "python",
   "name": "python3"
  },
  "language_info": {
   "codemirror_mode": {
    "name": "ipython",
    "version": 3
   },
   "file_extension": ".py",
   "mimetype": "text/x-python",
   "name": "python",
   "nbconvert_exporter": "python",
   "pygments_lexer": "ipython3",
   "version": "3.10.14"
  },
  "papermill": {
   "default_parameters": {},
   "duration": 33.824119,
   "end_time": "2024-09-01T06:46:19.470207",
   "environment_variables": {},
   "exception": null,
   "input_path": "__notebook__.ipynb",
   "output_path": "__notebook__.ipynb",
   "parameters": {},
   "start_time": "2024-09-01T06:45:45.646088",
   "version": "2.6.0"
  }
 },
 "nbformat": 4,
 "nbformat_minor": 5
}
